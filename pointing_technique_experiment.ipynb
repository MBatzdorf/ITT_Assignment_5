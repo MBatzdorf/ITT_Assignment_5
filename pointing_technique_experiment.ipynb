{
 "cells": [
  {
   "cell_type": "markdown",
   "metadata": {
    "collapsed": true
   },
   "source": [
    "# Area Bubble Pointer Evaluation\n",
    "## Experiment Design\n",
    "### Goals\n",
    "Goal of the experiment is to compare the performance of standard pointing with area bubble pointing.\n",
    "\n",
    "The concept of this new pointing technique is described in detail in pointing_technique.py.\n",
    "### Design\n",
    "For this experiment we chose a mulitfactorial within-subject design as learning doesn't have a lot of influence on the results and it is important to see how much the pointing performance is improved or not by each person using a certain pointing technique.\n",
    "### Hypotheses and variables\n",
    "As we conduct this experiment to improve pointing speed, we pose the hypothesis that using our new pointing technique leads to a better pointing performance. In addition, the two independet variables (UV)/factors target size and target distance are included. Therefore, we have following variables:\n",
    "* **UV**: target size, target distance, pointing technique\n",
    "* **AV (=dependent variable)**: pointing performance (task completion/errors)\n",
    "The factors target size and distance have each four different size/distance levels. The pointing technique has the two states standard pointer and area bubble pointer. This results in 28 conditions in total. Every condition should be repeated four teams which means that 112 trials are conducted per person.\n",
    "\n",
    "Next to **UV** and **AV**, we have the following controlled variables (**CV**): Every participant uses the same pointing device (mouse) which means that all four tests are conducted at the same notebook. This leads to less errors concerning the CD gain and the ground the mouse is lying on. Different grounds may lead to different mouse movement speeds and may therefore influence the task completion time and pointing performance. Further, we try to conduct all tests at about the same time to minimize confounding variables.\n",
    "\n",
    "Finally, it is important to mention that the conditions are counterbalanced  \n",
    "before every test run.\n",
    "\n",
    "### Participants\n",
    "When choosing participants no restrictions have to be considered as the target domain is the general public. Therefore, no special knowledge is necessary. The only limitation are physical handicaps\n",
    "like blindness and deafness which will bias the test validity. Despite the quite small number of test persons we try to create a heterogeneous pool of participants. So the test was conducted with two female and two male persons of different ages."
   ]
  },
  {
   "cell_type": "code",
   "execution_count": null,
   "metadata": {
    "collapsed": true
   },
   "outputs": [],
   "source": [
    "%matplotlib inline\n",
    "import pandas\n",
    "from pylab import *\n",
    "from scipy.stats import ttest_ind, ttest_rel, ttest_1samp\n",
    "\n",
    "try:\n",
    "    # import the data\n",
    "    data = pandas.read_csv('data.csv', delimiter=';')\n",
    "    # select only the relevant columns\n",
    "    data = data[['user_id', 'trial', 'target_distance', 'target_size', \n",
    "                 'movement_time (ms)', 'click_offset_x', 'click_offset_y', \n",
    "                 'number_of_errors', 'improved_pointing']]\n",
    "except Exception:\n",
    "    print(\"Error! Maybe you need to install pandas!\")"
   ]
  }
 ],
 "metadata": {
  "kernelspec": {
   "display_name": "Python 3",
   "language": "python",
   "name": "python3"
  },
  "language_info": {
   "codemirror_mode": {
    "name": "ipython",
    "version": 3
   },
   "file_extension": ".py",
   "mimetype": "text/x-python",
   "name": "python",
   "nbconvert_exporter": "python",
   "pygments_lexer": "ipython3",
   "version": "3.5.2"
  }
 },
 "nbformat": 4,
 "nbformat_minor": 2
}
